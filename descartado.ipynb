{
 "cells": [
  {
   "cell_type": "code",
   "execution_count": 3,
   "metadata": {},
   "outputs": [],
   "source": [
    "import pandas as pd\n",
    "import seaborn as sns\n",
    "import matplotlib.pyplot as plt\n",
    "import numpy as np"
   ]
  },
  {
   "cell_type": "markdown",
   "metadata": {},
   "source": [
    "# Análise das temperaturas mínimas e máximas e comparando com o número de casos de dengue"
   ]
  },
  {
   "cell_type": "code",
   "execution_count": 4,
   "metadata": {},
   "outputs": [],
   "source": [
    "df = pd.read_csv(\"./data_2000_2019.csv\")"
   ]
  },
  {
   "cell_type": "code",
   "execution_count": null,
   "metadata": {},
   "outputs": [],
   "source": [
    "# Filtrando os dados e separando por ano\n",
    "dados = []\n",
    "for i in range(18):\n",
    "    dados.append(df[df['ano'] == 2000 + i + 1])\n",
    "\n",
    "media_anual = pd.DataFrame()\n",
    "#media_anual['ano'] = [2001, 2002, 2003, 2004, 2005, 2006, 2007, 2008, 2009, 2010, 2011, 2012, 2013, 2014, 2015, 2016, 2017, 2018]\n",
    "media_dos_meses_por_ano = []\n",
    "aux =[]\n",
    "\n",
    "for i in dados:\n",
    "    j = 1\n",
    "    for k in range(12):\n",
    "        # Filtrando os meses de cada ano\n",
    "        aux.append(i[i['mes'] == k + 1])\n",
    "        # Calculando a média da temperatura mínima e máxima de cada mês\n",
    "        print(aux[k][['temp_min']].mean())\n",
    "        #media_dos_meses_por_ano.append(aux[k][['temp_min']].mean())\n",
    "        #print(media_dos_meses_por_ano)\n",
    "    # media_anual é uma lista de lista contendo a média por ano\n",
    "    media_anual[2000 + j] = media_dos_meses_por_ano\n",
    "    j + 1\n",
    "    media_dos_meses_por_ano = []\n",
    "    \n",
    "#media_anual\n",
    "\n",
    "#for i in range(18):\n",
    "#    plt.plot(media_anual['ano'], media_anual['temp_min'], color='blue')\n",
    "#    plt.xlabel('Meses')\n",
    "#    plt.ylabel('Temperatura mínima')\n",
    "#    #plt.title('Ano: ' + i['ano'][0])\n",
    "#    plt.show()"
   ]
  },
  {
   "cell_type": "code",
   "execution_count": null,
   "metadata": {},
   "outputs": [],
   "source": [
    "def agregacao_multipla(df, atributo_um, atributo_dois, atributo_tres):\n",
    "    agrupado = df.groupby(atributo_tres).agg({atributo_um:'sum', atributo_dois:'mean'})\n",
    "    return agrupado.reset_index()"
   ]
  },
  {
   "cell_type": "markdown",
   "metadata": {},
   "source": [
    "### Importando biblioteca necessária a normalização de dados"
   ]
  },
  {
   "cell_type": "code",
   "execution_count": null,
   "metadata": {},
   "outputs": [],
   "source": [
    "from sklearn.preprocessing import MinMaxScaler"
   ]
  },
  {
   "cell_type": "code",
   "execution_count": null,
   "metadata": {},
   "outputs": [],
   "source": [
    "df_multiplo = agregacao_multipla(df, \"temp_min\", \"temp_max\", \"regiao\")\n",
    "\n",
    "# Normalizando o conjunto de dados\n",
    "scaler = MinMaxScaler()\n",
    "df_dois = pd.DataFrame()\n",
    "df_dois['temp_min'] = df_multiplo['temp_min']\n",
    "df_dois['temp_max'] = df_multiplo['temp_max']\n",
    "# Normalizando a escala entre 0 e 1\n",
    "#df_normalizado = pd.DataFrame(scaler.fit_transform(df_dois), columns=df_dois.columns)\n",
    "\n",
    "# Normalizando pela média e pelo desvio padrão\n",
    "#df_normalizado = (df_dois - df_dois.mean()) / df_dois.std()\n",
    "\n",
    "#df_normalizado = (df_dois - df_dois.median()) / (df_dois.quantile(0.75) - df_dois.quantile(0.25))\n",
    "\n",
    "df_normalizado = df_multiplo\n",
    "\n",
    "df_normalizado['regiao'] = df_multiplo['regiao']\n",
    "# separando população e os casos de dengue em arrays\n",
    "pop = df_normalizado['temp_min']\n",
    "casos = df_normalizado['temp_max']\n",
    "\n",
    "# definindo largura das barras do gráfico\n",
    "largura = 0.25\n",
    "\n",
    "plt.figure(figsize=(10,5))\n",
    "\n",
    "# Posição das barras, o eixo x será as regiões\n",
    "r1 = np.arange(len(df_normalizado['regiao']))\n",
    "r2 = [x + largura for x in r1]\n",
    "\n",
    "# Plotando as barras\n",
    "plt.bar(r1, pop, width=largura, label = \"Temperatura Mínima\")\n",
    "plt.bar(r2, casos, width=largura, label = \"Temperatura Máxima\")\n",
    "\n",
    "plt.xlabel(\"Regiões\")\n",
    "plt.xticks([r + largura for r in range(len(df_normalizado['regiao']))], [df_normalizado['regiao'][0], df_normalizado['regiao'][1], df_normalizado['regiao'][2], df_normalizado['regiao'][3], df_normalizado['regiao'][4]])\n",
    "plt.ylabel(\"Valores\")\n",
    "plt.title(\"Temperatura mínima e máxima por região\")\n",
    "\n",
    "plt.legend()\n",
    "plt.show()"
   ]
  }
 ],
 "metadata": {
  "kernelspec": {
   "display_name": "Python 3",
   "language": "python",
   "name": "python3"
  },
  "language_info": {
   "codemirror_mode": {
    "name": "ipython",
    "version": 3
   },
   "file_extension": ".py",
   "mimetype": "text/x-python",
   "name": "python",
   "nbconvert_exporter": "python",
   "pygments_lexer": "ipython3",
   "version": "3.12.3"
  }
 },
 "nbformat": 4,
 "nbformat_minor": 2
}
