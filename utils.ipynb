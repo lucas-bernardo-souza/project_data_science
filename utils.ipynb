{
 "cells": [
  {
   "cell_type": "code",
   "execution_count": 1,
   "metadata": {},
   "outputs": [],
   "source": [
    "import pandas as pd\n",
    "import seaborn as sns\n",
    "import matplotlib.pyplot as plt"
   ]
  },
  {
   "cell_type": "code",
   "execution_count": 2,
   "metadata": {},
   "outputs": [],
   "source": [
    "def olamundo():\n",
    "    print(\"hello word!\")"
   ]
  },
  {
   "cell_type": "code",
   "execution_count": 3,
   "metadata": {},
   "outputs": [],
   "source": [
    "def agrupar(df, feature_one, feature_two):\n",
    "    agrupado =  df.groupby(feature_one)[feature_two].sum()\n",
    "    return agrupado.reset_index()"
   ]
  },
  {
   "cell_type": "code",
   "execution_count": 4,
   "metadata": {},
   "outputs": [],
   "source": [
    "def grafico_barras(df, eixo_x, eixo_y, title):\n",
    "    plt.figure(figsize=(20,6))\n",
    "    custom_colors = [\"#949392\"]\n",
    "    #plt.xticks(rotation=45)\n",
    "    plt.title(title)\n",
    "    sns.barplot(data=df, x=eixo_x, y=eixo_y, palette=custom_colors)"
   ]
  },
  {
   "cell_type": "code",
   "execution_count": 5,
   "metadata": {},
   "outputs": [],
   "source": [
    "def grafico_correlacao(df, atributos, titulo):\n",
    "    plt.figure(figsize=(10,6))\n",
    "    sns.heatmap(df[atributos].corr(), annot=True, cmap=\"coolwarm\", fmt=\".2f\", linewidths=0.5)\n",
    "    plt.title(titulo)\n",
    "    plt.show()"
   ]
  },
  {
   "cell_type": "code",
   "execution_count": null,
   "metadata": {},
   "outputs": [],
   "source": []
  }
 ],
 "metadata": {
  "kernelspec": {
   "display_name": "base",
   "language": "python",
   "name": "python3"
  },
  "language_info": {
   "codemirror_mode": {
    "name": "ipython",
    "version": 3
   },
   "file_extension": ".py",
   "mimetype": "text/x-python",
   "name": "python",
   "nbconvert_exporter": "python",
   "pygments_lexer": "ipython3",
   "version": "3.7.6"
  }
 },
 "nbformat": 4,
 "nbformat_minor": 2
}
